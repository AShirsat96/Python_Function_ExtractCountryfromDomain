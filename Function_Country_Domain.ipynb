{
 "cells": [
  {
   "cell_type": "markdown",
   "id": "987b22b5",
   "metadata": {},
   "source": [
    "### Function to determine country from domain"
   ]
  },
  {
   "cell_type": "code",
   "execution_count": 8,
   "id": "b2a686dd",
   "metadata": {},
   "outputs": [],
   "source": [
    "import requests\n",
    "import socket\n",
    "\n",
    "def get_country_from_domain(domain_name):\n",
    "    try:\n",
    "        ip_address = socket.gethostbyname(domain_name)\n",
    "        response = requests.get(f\"http://ipinfo.io/{ip_address}/json\")\n",
    "        data = response.json()\n",
    "        country = data.get('country')\n",
    "        if country:\n",
    "            return country\n",
    "        else:\n",
    "            return \"Country information not available for this domain.\"\n",
    "    except Exception as e:\n",
    "        return f\"Error: {e}\""
   ]
  },
  {
   "cell_type": "code",
   "execution_count": 9,
   "id": "5a929ad5",
   "metadata": {},
   "outputs": [],
   "source": [
    "domain_name = \"www.pizzahut.com.sg\""
   ]
  },
  {
   "cell_type": "code",
   "execution_count": 10,
   "id": "fcee7682",
   "metadata": {},
   "outputs": [
    {
     "data": {
      "text/plain": [
       "'SG'"
      ]
     },
     "execution_count": 10,
     "metadata": {},
     "output_type": "execute_result"
    }
   ],
   "source": [
    "get_country_from_domain(domain_name)"
   ]
  }
 ],
 "metadata": {
  "kernelspec": {
   "display_name": "Python 3 (ipykernel)",
   "language": "python",
   "name": "python3"
  },
  "language_info": {
   "codemirror_mode": {
    "name": "ipython",
    "version": 3
   },
   "file_extension": ".py",
   "mimetype": "text/x-python",
   "name": "python",
   "nbconvert_exporter": "python",
   "pygments_lexer": "ipython3",
   "version": "3.8.19"
  }
 },
 "nbformat": 4,
 "nbformat_minor": 5
}
